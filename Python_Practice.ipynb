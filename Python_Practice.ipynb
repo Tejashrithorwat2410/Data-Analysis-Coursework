{
  "nbformat": 4,
  "nbformat_minor": 0,
  "metadata": {
    "colab": {
      "provenance": []
    },
    "kernelspec": {
      "name": "python3",
      "display_name": "Python 3"
    },
    "language_info": {
      "name": "python"
    }
  },
  "cells": [
    {
      "cell_type": "code",
      "execution_count": null,
      "metadata": {
        "colab": {
          "base_uri": "https://localhost:8080/"
        },
        "id": "Z8MKJN2pIeyD",
        "outputId": "d1867d5f-220a-42dc-e001-20ffd4ebf023"
      },
      "outputs": [
        {
          "output_type": "stream",
          "name": "stdout",
          "text": [
            "False\n"
          ]
        }
      ],
      "source": [
        "def pal(s):\n",
        "  s=s.lower().replace(\" \",\" \")\n",
        "  return s==s[::-1]\n",
        "\n",
        "print(pal(\" A man a plan a canal Panama\"))"
      ]
    },
    {
      "cell_type": "code",
      "source": [
        "##calculate factorial no using recursion\n",
        "def fact(n):\n",
        "  if n==0:\n",
        "    return 1\n",
        "  else:\n",
        "    return n* fact(n-1)\n",
        "\n",
        "print(fact(5))"
      ],
      "metadata": {
        "colab": {
          "base_uri": "https://localhost:8080/"
        },
        "id": "89zl1CezMBIQ",
        "outputId": "5adee0de-efa8-4b1e-dc71-936e46b46961"
      },
      "execution_count": null,
      "outputs": [
        {
          "output_type": "stream",
          "name": "stdout",
          "text": [
            "120\n"
          ]
        }
      ]
    },
    {
      "cell_type": "code",
      "source": [
        "##validate Email Address\n",
        "import re\n",
        "def is_valid_email(email):\n",
        "  pattern =r'^[a-zA-Z0-9_.+-]+@[a-zA-Z0-9-]+\\.[a-zA-Z0-9-.]+$'\n",
        "  return re.match(pattern,email) is not None\n",
        "\n",
        "print(is_valid_email(\"tejashri@gmail.com\"))\n",
        "print(is_valid_email(\"tejashrithorwat\"))"
      ],
      "metadata": {
        "colab": {
          "base_uri": "https://localhost:8080/"
        },
        "id": "PnVRkLWZMx4g",
        "outputId": "01ba9b17-df1f-48ad-dd74-f21598220837"
      },
      "execution_count": null,
      "outputs": [
        {
          "output_type": "stream",
          "name": "stdout",
          "text": [
            "True\n",
            "False\n"
          ]
        }
      ]
    },
    {
      "cell_type": "code",
      "source": [
        "## Lambda Function\n",
        "even = lambda x:x%2==0\n",
        "print(even(10))"
      ],
      "metadata": {
        "colab": {
          "base_uri": "https://localhost:8080/"
        },
        "id": "1emff-8ZQLkj",
        "outputId": "6845a06e-5e3a-463d-e3fa-a6a07d96895b"
      },
      "execution_count": null,
      "outputs": [
        {
          "output_type": "stream",
          "name": "stdout",
          "text": [
            "True\n"
          ]
        }
      ]
    },
    {
      "cell_type": "code",
      "source": [
        "##Map and filter\n",
        "numbers=[1,2,3,4,5]\n",
        "tuple(map(lambda x:x**2,numbers))\n",
        "\n"
      ],
      "metadata": {
        "colab": {
          "base_uri": "https://localhost:8080/"
        },
        "id": "aT0ieN7CQypF",
        "outputId": "a0d05fe2-b9b8-4f15-f72f-f623d0dcddee"
      },
      "execution_count": 24,
      "outputs": [
        {
          "output_type": "execute_result",
          "data": {
            "text/plain": [
              "(1, 4, 9, 16, 25)"
            ]
          },
          "metadata": {},
          "execution_count": 24
        }
      ]
    },
    {
      "cell_type": "code",
      "source": [
        "#other way\n",
        "def square(x):\n",
        "  return x**2\n",
        "\n",
        "square(2)\n",
        "\n",
        "numbers=[1,2,3,4,5]\n",
        "list(map(square,numbers))"
      ],
      "metadata": {
        "id": "Dv4toY7dTHZu",
        "colab": {
          "base_uri": "https://localhost:8080/"
        },
        "outputId": "8119d9b3-c5c0-417f-d3f4-b38472b4852f"
      },
      "execution_count": 20,
      "outputs": [
        {
          "output_type": "execute_result",
          "data": {
            "text/plain": [
              "[1, 4, 9, 16, 25]"
            ]
          },
          "metadata": {},
          "execution_count": 20
        }
      ]
    },
    {
      "cell_type": "code",
      "source": [
        "##mapping multiple itrable\n",
        "num1=[1,2,3]\n",
        "num2=[4,5,6]\n",
        "add_num=list(map(lambda x,y:x+y,num1,num2))\n",
        "print(add_num)"
      ],
      "metadata": {
        "colab": {
          "base_uri": "https://localhost:8080/"
        },
        "id": "yLC8NvvaWr7Y",
        "outputId": "020095f4-bbbd-4e19-9d94-736135fed7d2"
      },
      "execution_count": 25,
      "outputs": [
        {
          "output_type": "stream",
          "name": "stdout",
          "text": [
            "[5, 7, 9]\n"
          ]
        }
      ]
    },
    {
      "cell_type": "code",
      "source": [
        "## map() to convert list of string to int\n",
        "str_num=['1','2','3','4']\n",
        "int_num=list(map(int, str_num))\n",
        "print(int_num)\n",
        "print(type(int_num))"
      ],
      "metadata": {
        "colab": {
          "base_uri": "https://localhost:8080/"
        },
        "id": "aJQb6ukdXUEK",
        "outputId": "fcd6bc9e-70fa-453d-e465-a21395cfa6be"
      },
      "execution_count": 28,
      "outputs": [
        {
          "output_type": "stream",
          "name": "stdout",
          "text": [
            "[1, 2, 3, 4]\n",
            "<class 'list'>\n"
          ]
        }
      ]
    },
    {
      "cell_type": "code",
      "source": [],
      "metadata": {
        "id": "wOBxV-mtX_5Y"
      },
      "execution_count": null,
      "outputs": []
    },
    {
      "cell_type": "code",
      "source": [
        "words=['apple','banana','cherry']\n",
        "upper_word=list(map(str.upper,words))\n",
        "print(upper_word)\n"
      ],
      "metadata": {
        "colab": {
          "base_uri": "https://localhost:8080/"
        },
        "id": "XIGqps81XvAo",
        "outputId": "155ed8f7-02b5-400f-ff7e-ddbc230190a5"
      },
      "execution_count": 29,
      "outputs": [
        {
          "output_type": "stream",
          "name": "stdout",
          "text": [
            "['APPLE', 'BANANA', 'CHERRY']\n"
          ]
        }
      ]
    },
    {
      "cell_type": "code",
      "source": [
        "def get_name(person):\n",
        "  return person['name']\n",
        "\n",
        "people=[\n",
        "    {'name':'Krish', 'age':32},\n",
        "    {'name':'Jack','age':30}\n",
        "]\n",
        "\n",
        "person_name=list(map(get_name,people))\n",
        "print(person_name)"
      ],
      "metadata": {
        "colab": {
          "base_uri": "https://localhost:8080/"
        },
        "id": "Emq-1xqBYKMa",
        "outputId": "2c57f0df-2764-45d1-e5f6-d8be7989d3a9"
      },
      "execution_count": 31,
      "outputs": [
        {
          "output_type": "stream",
          "name": "stdout",
          "text": [
            "['Krish', 'Jack']\n"
          ]
        }
      ]
    },
    {
      "cell_type": "code",
      "source": [
        "people=[\n",
        "    {'name':'Krish', 'age':32},\n",
        "    {'name':'Jack','age':30}\n",
        "]\n",
        "\n",
        "person_name=list(map(lambda n:n['name'],people))\n",
        "print(person_name)"
      ],
      "metadata": {
        "colab": {
          "base_uri": "https://localhost:8080/"
        },
        "id": "eC58yDymY-xF",
        "outputId": "82000698-8d80-4ddb-d859-938166fb8dd9"
      },
      "execution_count": 40,
      "outputs": [
        {
          "output_type": "stream",
          "name": "stdout",
          "text": [
            "['Krish', 'Jack']\n"
          ]
        }
      ]
    },
    {
      "cell_type": "code",
      "source": [
        "##Filter()\n",
        "def even(num):\n",
        "  return num%2==0\n",
        "number=[1,2,3,4,5,6,7,8]\n",
        "filterr=list(filter(even, number))\n",
        "print(filterr)"
      ],
      "metadata": {
        "colab": {
          "base_uri": "https://localhost:8080/"
        },
        "id": "SqIfd6RxZYh2",
        "outputId": "5e5a20de-1435-4d09-cd9a-084524019b57"
      },
      "execution_count": 36,
      "outputs": [
        {
          "output_type": "stream",
          "name": "stdout",
          "text": [
            "[2, 4, 6, 8]\n"
          ]
        }
      ]
    },
    {
      "cell_type": "code",
      "source": [
        "num=[1,2,3,4,5,6,7,8,9]\n",
        "grater_than_five=list(filter(lambda x:x>5 and x%2==0,num))\n",
        "print(grater_than_five)"
      ],
      "metadata": {
        "colab": {
          "base_uri": "https://localhost:8080/"
        },
        "id": "lBhbXfGxaZMU",
        "outputId": "16fa4ce4-92ed-4101-9c92-056a6e9165af"
      },
      "execution_count": 39,
      "outputs": [
        {
          "output_type": "stream",
          "name": "stdout",
          "text": [
            "[6, 8]\n"
          ]
        }
      ]
    },
    {
      "cell_type": "code",
      "source": [
        "#filter() to check if the age is greater than 25 in dict\n",
        "people=[\n",
        "    {'name':'krish','age':32},\n",
        "    {'name':'Jack','age':15}\n",
        "]\n",
        "\n",
        "#age_greater_than_25=list(filter(lambda x:x>25, people))\n",
        "#print(age_greater_than_25)\n",
        "\n",
        "def age(num):\n",
        "  return num['age']>25\n",
        "\n",
        "age_greater_than_25=list(filter(age,people))\n",
        "print(age_greater_than_25)"
      ],
      "metadata": {
        "colab": {
          "base_uri": "https://localhost:8080/"
        },
        "id": "d7ccw4wJaso6",
        "outputId": "eaef8e72-468a-44fc-e0c3-3f51ffa3d72f"
      },
      "execution_count": 46,
      "outputs": [
        {
          "output_type": "stream",
          "name": "stdout",
          "text": [
            "[{'name': 'krish', 'age': 32}]\n"
          ]
        }
      ]
    },
    {
      "cell_type": "code",
      "source": [
        "##Importing modules and packages in python\n",
        "import math\n",
        "math.sqrt(16)"
      ],
      "metadata": {
        "colab": {
          "base_uri": "https://localhost:8080/"
        },
        "id": "oZAryQjNfFtc",
        "outputId": "d62e9bec-ce4f-4f8b-9089-2d238af59a9f"
      },
      "execution_count": 47,
      "outputs": [
        {
          "output_type": "execute_result",
          "data": {
            "text/plain": [
              "4.0"
            ]
          },
          "metadata": {},
          "execution_count": 47
        }
      ]
    },
    {
      "cell_type": "code",
      "source": [
        "##Array\n",
        "import array\n",
        "arr=array.array('i',[1,2,3,5,6])\n",
        "print(arr)"
      ],
      "metadata": {
        "colab": {
          "base_uri": "https://localhost:8080/"
        },
        "id": "WAQcihAghJCK",
        "outputId": "447e1ebd-3d3d-455c-dd33-2a99c76abf1b"
      },
      "execution_count": 48,
      "outputs": [
        {
          "output_type": "stream",
          "name": "stdout",
          "text": [
            "array('i', [1, 2, 3, 5, 6])\n"
          ]
        }
      ]
    },
    {
      "cell_type": "code",
      "source": [
        "##Random library\n",
        "import random\n",
        "print(random.randint(2,10))"
      ],
      "metadata": {
        "colab": {
          "base_uri": "https://localhost:8080/"
        },
        "id": "Kgm_oiZno2cI",
        "outputId": "fb92307c-eb61-4223-e880-3ffa3b3b252f"
      },
      "execution_count": 53,
      "outputs": [
        {
          "output_type": "stream",
          "name": "stdout",
          "text": [
            "6\n"
          ]
        }
      ]
    },
    {
      "cell_type": "code",
      "source": [
        "##File and directory accesss\n",
        "import os\n",
        "print(os.getcwd())"
      ],
      "metadata": {
        "colab": {
          "base_uri": "https://localhost:8080/"
        },
        "id": "mMsJdvsmpEpV",
        "outputId": "1a76e00e-d93e-45ea-d882-3feec862391c"
      },
      "execution_count": 55,
      "outputs": [
        {
          "output_type": "stream",
          "name": "stdout",
          "text": [
            "/content\n"
          ]
        }
      ]
    },
    {
      "cell_type": "code",
      "source": [
        "#high level operations on files and collection of files\n",
        "#data serialization\n",
        "import json\n",
        "data={'name':'Krish','age':33}\n",
        "json_str=json.dumps(data)\n",
        "print(json_str)\n",
        "print(type(json_str))\n",
        "parsed_data=json.loads(json_str)\n",
        "print(parsed_data,type(parsed_data))\n"
      ],
      "metadata": {
        "colab": {
          "base_uri": "https://localhost:8080/"
        },
        "id": "L-Z7t0-vpXwl",
        "outputId": "a7af14b5-91e4-4e2c-d7bc-79d6e23fda81"
      },
      "execution_count": 58,
      "outputs": [
        {
          "output_type": "stream",
          "name": "stdout",
          "text": [
            "{\"name\": \"Krish\", \"age\": 33}\n",
            "<class 'str'>\n",
            "{'name': 'Krish', 'age': 33} <class 'dict'>\n"
          ]
        }
      ]
    },
    {
      "cell_type": "code",
      "source": [
        "##csv\n",
        "import csv\n",
        "with open('exam.csv',mode='w',newline='') as file:\n",
        "  writer=csv.writer(file)\n",
        "  writer.writerow(['Name','age'])\n",
        "  writer.writerow(['Teja',22])\n",
        "\n",
        "with open('exam.csv',mode='r') as file:\n",
        "  reader=csv.reader(file)\n",
        "  for row in reader:\n",
        "    print(row)\n",
        "\n"
      ],
      "metadata": {
        "colab": {
          "base_uri": "https://localhost:8080/"
        },
        "id": "f_QcTgX_qqS7",
        "outputId": "469984a8-270e-4155-e8fb-15fbc4721742"
      },
      "execution_count": 59,
      "outputs": [
        {
          "output_type": "stream",
          "name": "stdout",
          "text": [
            "['Name', 'age']\n",
            "['Teja', '22']\n"
          ]
        }
      ]
    },
    {
      "cell_type": "code",
      "source": [
        "## Datetime\n",
        "from datetime import datetime, timedelta\n",
        "now=datetime.now()\n",
        "print(now)"
      ],
      "metadata": {
        "colab": {
          "base_uri": "https://localhost:8080/"
        },
        "id": "iW5fpMfTsG4h",
        "outputId": "65c475a1-7265-419f-c9e7-0d9f9c345f6c"
      },
      "execution_count": 61,
      "outputs": [
        {
          "output_type": "stream",
          "name": "stdout",
          "text": [
            "2025-04-23 08:11:10.538775\n"
          ]
        }
      ]
    },
    {
      "cell_type": "code",
      "source": [
        "yest=now-timedelta(days=1)\n",
        "print(yest)"
      ],
      "metadata": {
        "colab": {
          "base_uri": "https://localhost:8080/"
        },
        "id": "Cjax3UPeszSR",
        "outputId": "c5cdd1a6-427c-410a-fb84-07d26584fc57"
      },
      "execution_count": 63,
      "outputs": [
        {
          "output_type": "stream",
          "name": "stdout",
          "text": [
            "2025-04-22 08:11:10.538775\n"
          ]
        }
      ]
    },
    {
      "cell_type": "code",
      "source": [
        "##File handling\n",
        "with open('/example.txt','r') as file:\n",
        "  content = file.read()\n",
        "  print(content)\n"
      ],
      "metadata": {
        "colab": {
          "base_uri": "https://localhost:8080/"
        },
        "id": "4-qTKdCktJqr",
        "outputId": "f9865707-9c33-4439-8de2-04e31dcb417c"
      },
      "execution_count": 7,
      "outputs": [
        {
          "output_type": "stream",
          "name": "stdout",
          "text": [
            "Hello this is Tejashri \n",
            "I have done Btech in Computer Science and Engineering in2024\n",
            "I am Passinate about Data Analystics\n"
          ]
        }
      ]
    },
    {
      "cell_type": "code",
      "source": [
        "##writting a File\n",
        "with open('/example.txt', 'w') as file:\n",
        "  file.write(\"Hello World\")\n",
        "  file.write(\"This is a new line\")"
      ],
      "metadata": {
        "id": "U-1FsYUFWTOd"
      },
      "execution_count": 8,
      "outputs": []
    },
    {
      "cell_type": "code",
      "source": [
        "with open('/example.txt', 'a') as file:\n",
        "  file.write(\"This is appended text \")\n",
        ""
      ],
      "metadata": {
        "id": "1LBIAbzGY2xl"
      },
      "execution_count": 9,
      "outputs": []
    },
    {
      "cell_type": "code",
      "source": [
        "##Binary files\n",
        "with open('/example.txt', 'r' ) as source_file:\n",
        "  content = source_file.read()\n",
        "\n",
        "with open('Destination.txt', 'w') as destination_file:\n",
        "  destination_file.write(content)"
      ],
      "metadata": {
        "id": "Z-I7QYAxZMqq"
      },
      "execution_count": 10,
      "outputs": []
    },
    {
      "cell_type": "code",
      "source": [
        "with open('Destination.txt', 'r') as file:\n",
        "  content = file.read()\n",
        "  print(content)\n",
        ""
      ],
      "metadata": {
        "colab": {
          "base_uri": "https://localhost:8080/"
        },
        "id": "HGp7ij6-as9T",
        "outputId": "6713ae96-cfdb-464b-b1d5-b23e4127033c"
      },
      "execution_count": 12,
      "outputs": [
        {
          "output_type": "stream",
          "name": "stdout",
          "text": [
            "Hello WorldThis is a new lineThis is appended text \n"
          ]
        }
      ]
    },
    {
      "cell_type": "code",
      "source": [
        "##Read text file and count the number of lines, words and characters\n",
        "def count_text_file(file_path):\n",
        "  with open(file_path,'r') as file:\n",
        "    lines = file.readlines()\n",
        "    line_count = len(lines)\n",
        "    word_count = sum(len(line.split()) for line in lines)\n",
        "    char_count = sum(len(line) for line in lines)\n",
        "  return line_count, word_count, char_count\n",
        "\n",
        "file_path= '/example.txt'\n",
        "lines, words, char = count_text_file(file_path)\n",
        "print(f'Lines:{lines}, Words:{words}, Characters:{char}')"
      ],
      "metadata": {
        "colab": {
          "base_uri": "https://localhost:8080/"
        },
        "id": "om3gRWkDa-JF",
        "outputId": "f876b459-e5c0-4c63-fbab-4d96dc43683b"
      },
      "execution_count": 15,
      "outputs": [
        {
          "output_type": "stream",
          "name": "stdout",
          "text": [
            "Lines:1, Words:9, Characters:51\n"
          ]
        }
      ]
    },
    {
      "cell_type": "code",
      "source": [
        "##Exception Handling\n",
        "try:\n",
        "  a=b\n",
        "except NameError as ex:\n",
        "  print(ex)"
      ],
      "metadata": {
        "colab": {
          "base_uri": "https://localhost:8080/"
        },
        "id": "h1qcGhkTc5Q0",
        "outputId": "2d47c3ab-e2d1-4eae-f79b-4ae8d3d4fbb4"
      },
      "execution_count": 17,
      "outputs": [
        {
          "output_type": "stream",
          "name": "stdout",
          "text": [
            "name 'b' is not defined\n"
          ]
        }
      ]
    },
    {
      "cell_type": "code",
      "source": [
        "#Zero Division Error\n",
        "try:\n",
        "  a=10\n",
        "  result = a/0\n",
        "except ZeroDivisionError as ex:\n",
        "  print(ex)\n"
      ],
      "metadata": {
        "colab": {
          "base_uri": "https://localhost:8080/"
        },
        "id": "XK8rnGExmaLd",
        "outputId": "03ec6523-6313-4b9c-e180-655d739a80cd"
      },
      "execution_count": 18,
      "outputs": [
        {
          "output_type": "stream",
          "name": "stdout",
          "text": [
            "division by zero\n"
          ]
        }
      ]
    },
    {
      "cell_type": "code",
      "source": [
        "try:\n",
        "  num=int(input(\"Enter a Number\"))\n",
        "  result =10/num\n",
        "except ValueError:\n",
        "  print(\"This is not valid number \")\n",
        "except ZeroDivisionError:\n",
        "  print(\"Enter denomenator greater than 0\")\n",
        "except Exception as ex:\n",
        "  print(ex)\n",
        "else:\n",
        "  print(\"the result is:\", result)\n",
        "finally:\n",
        "  print(\"Done!!!\")"
      ],
      "metadata": {
        "colab": {
          "base_uri": "https://localhost:8080/"
        },
        "id": "Iq1zGe1TnExT",
        "outputId": "9404f9cf-e622-434f-ec7d-476259f330f4"
      },
      "execution_count": 29,
      "outputs": [
        {
          "output_type": "stream",
          "name": "stdout",
          "text": [
            "Enter a Number0\n",
            "Enter denomenator greater than 0\n",
            "Done!!!\n"
          ]
        }
      ]
    },
    {
      "cell_type": "code",
      "source": [
        "##file handling and exception handling\n",
        "try:\n",
        "  file=open('/example.txt', 'r')\n",
        "  content = file.read()\n",
        "  #a=b\n",
        "  print(content)\n",
        "except FileNotFoundError:\n",
        "  print(\"The file does not exists\")\n",
        "except Exception as ex:\n",
        "  print(ex)\n",
        "finally:\n",
        "  if 'file' in locals() or not file.closed():\n",
        "    file.close()\n",
        "    print(\"file close\")\n"
      ],
      "metadata": {
        "colab": {
          "base_uri": "https://localhost:8080/"
        },
        "id": "1VrXhyGMorLc",
        "outputId": "2d66d322-9ea3-4a0d-d835-215f914bb657"
      },
      "execution_count": 33,
      "outputs": [
        {
          "output_type": "stream",
          "name": "stdout",
          "text": [
            "Hello WorldThis is a new lineThis is appended text \n",
            "file close\n"
          ]
        }
      ]
    },
    {
      "cell_type": "code",
      "source": [],
      "metadata": {
        "id": "eS5_kls9shBr"
      },
      "execution_count": null,
      "outputs": []
    }
  ]
}