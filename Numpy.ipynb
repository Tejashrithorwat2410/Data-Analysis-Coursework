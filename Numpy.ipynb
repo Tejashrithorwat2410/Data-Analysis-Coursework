{
  "nbformat": 4,
  "nbformat_minor": 0,
  "metadata": {
    "colab": {
      "provenance": []
    },
    "kernelspec": {
      "name": "python3",
      "display_name": "Python 3"
    },
    "language_info": {
      "name": "python"
    }
  },
  "cells": [
    {
      "cell_type": "code",
      "execution_count": null,
      "metadata": {
        "id": "2-GKN38OTWR_"
      },
      "outputs": [],
      "source": [
        "import numpy as np"
      ]
    },
    {
      "cell_type": "code",
      "source": [
        "##creating 1D array using numpy\n",
        "arr1=np.array([1,2,3,4,6,7,7,8,])\n",
        "print(arr1)\n"
      ],
      "metadata": {
        "colab": {
          "base_uri": "https://localhost:8080/"
        },
        "id": "lJ37D3yIVNce",
        "outputId": "791c4b44-13ac-4c7e-fe9a-8f7bae3d769f"
      },
      "execution_count": null,
      "outputs": [
        {
          "output_type": "stream",
          "name": "stdout",
          "text": [
            "[1 2 3 4 6 7 7 8]\n"
          ]
        }
      ]
    },
    {
      "cell_type": "code",
      "source": [
        "print(arr1.shape)"
      ],
      "metadata": {
        "colab": {
          "base_uri": "https://localhost:8080/"
        },
        "id": "ut2k3JbEVY7y",
        "outputId": "1b61df65-f019-45a2-85da-a6efbae293ce"
      },
      "execution_count": null,
      "outputs": [
        {
          "output_type": "stream",
          "name": "stdout",
          "text": [
            "(8,)\n"
          ]
        }
      ]
    },
    {
      "cell_type": "code",
      "source": [
        "##reshape array into 2D\n",
        "arr2=np.array([1,2,3,4,5,6,7])\n",
        "arr2.reshape(1,7) #1 row and 5 columns\n",
        "\n"
      ],
      "metadata": {
        "colab": {
          "base_uri": "https://localhost:8080/"
        },
        "id": "puZUiZ6PVcLP",
        "outputId": "ee4469e7-6326-4ab5-f854-c40743b7401d"
      },
      "execution_count": null,
      "outputs": [
        {
          "output_type": "execute_result",
          "data": {
            "text/plain": [
              "array([[1, 2, 3, 4, 5, 6, 7]])"
            ]
          },
          "metadata": {},
          "execution_count": 5
        }
      ]
    },
    {
      "cell_type": "code",
      "source": [
        "np.arange(0,10,2) # start from 0 , end at 10, steps 2"
      ],
      "metadata": {
        "colab": {
          "base_uri": "https://localhost:8080/"
        },
        "id": "sKxgv0HwVtWK",
        "outputId": "5cb94dd4-6900-47bc-962b-3eec93a50e8b"
      },
      "execution_count": null,
      "outputs": [
        {
          "output_type": "execute_result",
          "data": {
            "text/plain": [
              "array([0, 2, 4, 6, 8])"
            ]
          },
          "metadata": {},
          "execution_count": 9
        }
      ]
    },
    {
      "cell_type": "code",
      "source": [
        "np.ones((3,4)) # 3 rows and 4 col and it gives all one in matrix\n"
      ],
      "metadata": {
        "colab": {
          "base_uri": "https://localhost:8080/"
        },
        "id": "pkaomQs_WTZx",
        "outputId": "8f700eaa-78b4-4644-ac38-de79ffb6c36d"
      },
      "execution_count": null,
      "outputs": [
        {
          "output_type": "execute_result",
          "data": {
            "text/plain": [
              "array([[1., 1., 1., 1.],\n",
              "       [1., 1., 1., 1.],\n",
              "       [1., 1., 1., 1.]])"
            ]
          },
          "metadata": {},
          "execution_count": 11
        }
      ]
    },
    {
      "cell_type": "code",
      "source": [
        "#identity matrix\n",
        "np.eye(3)"
      ],
      "metadata": {
        "colab": {
          "base_uri": "https://localhost:8080/"
        },
        "id": "OkFSaQgBWwIw",
        "outputId": "e92fccc2-0a0e-4bfc-cd54-23bfc4909b7e"
      },
      "execution_count": null,
      "outputs": [
        {
          "output_type": "execute_result",
          "data": {
            "text/plain": [
              "array([[1., 0., 0.],\n",
              "       [0., 1., 0.],\n",
              "       [0., 0., 1.]])"
            ]
          },
          "metadata": {},
          "execution_count": 12
        }
      ]
    },
    {
      "cell_type": "code",
      "source": [
        "#number of dimentions\n",
        "arr2.ndim"
      ],
      "metadata": {
        "colab": {
          "base_uri": "https://localhost:8080/"
        },
        "id": "C_h2O15PW9af",
        "outputId": "36c677b1-581a-40a6-b67c-de14130c13f0"
      },
      "execution_count": null,
      "outputs": [
        {
          "output_type": "execute_result",
          "data": {
            "text/plain": [
              "1"
            ]
          },
          "metadata": {},
          "execution_count": 13
        }
      ]
    },
    {
      "cell_type": "code",
      "source": [
        "#size of matrix i.e number of elements\n",
        "arr2.size"
      ],
      "metadata": {
        "colab": {
          "base_uri": "https://localhost:8080/"
        },
        "id": "kmVYJaU9XHN6",
        "outputId": "2895d24b-2d3c-496c-a45f-8f978eebd958"
      },
      "execution_count": null,
      "outputs": [
        {
          "output_type": "execute_result",
          "data": {
            "text/plain": [
              "7"
            ]
          },
          "metadata": {},
          "execution_count": 14
        }
      ]
    },
    {
      "cell_type": "code",
      "source": [
        "#Data types\n",
        "arr2.dtype"
      ],
      "metadata": {
        "colab": {
          "base_uri": "https://localhost:8080/"
        },
        "id": "GbhccT5TXV2q",
        "outputId": "922d7cd8-c3a8-4cb1-efde-351e796f412d"
      },
      "execution_count": null,
      "outputs": [
        {
          "output_type": "execute_result",
          "data": {
            "text/plain": [
              "dtype('int64')"
            ]
          },
          "metadata": {},
          "execution_count": 16
        }
      ]
    },
    {
      "cell_type": "code",
      "source": [
        "#item size\n",
        "arr2.itemsize"
      ],
      "metadata": {
        "colab": {
          "base_uri": "https://localhost:8080/"
        },
        "id": "ndLmpCFoXbZc",
        "outputId": "16545609-dd71-445b-b2f0-4107f6b65170"
      },
      "execution_count": null,
      "outputs": [
        {
          "output_type": "execute_result",
          "data": {
            "text/plain": [
              "8"
            ]
          },
          "metadata": {},
          "execution_count": 17
        }
      ]
    },
    {
      "cell_type": "code",
      "source": [
        "##numpy vectorized operations\n",
        "arr1=np.array([1,2,3,4,5])\n",
        "arr2=np.array([10,20,30,40,50])\n",
        "\n",
        "## element wise addition\n",
        "print(\"Addition:\", arr1+arr2)\n",
        "\n",
        "##element wise subtraction\n",
        "print(\"subtraction:\", arr2-arr1)\n",
        "\n",
        "##element wise multiplication\n",
        "print(\"Multiplication:\", arr2*arr1)\n",
        "\n",
        "##element wise Division\n",
        "print(\"Division:\", arr2//arr1)\n"
      ],
      "metadata": {
        "colab": {
          "base_uri": "https://localhost:8080/"
        },
        "id": "yc0zhgWiXklE",
        "outputId": "caa092fc-212d-46f8-ca44-316ff326c063"
      },
      "execution_count": null,
      "outputs": [
        {
          "output_type": "stream",
          "name": "stdout",
          "text": [
            "Addition: [11 22 33 44 55]\n",
            "subtraction: [ 9 18 27 36 45]\n",
            "Multiplication: [ 10  40  90 160 250]\n",
            "Division: [10 10 10 10 10]\n"
          ]
        }
      ]
    },
    {
      "cell_type": "code",
      "source": [
        "##Universal Function\n",
        "#sqaure root\n",
        "print(np.sqrt(arr2))\n",
        "\n",
        "# Exponential\n",
        "print(np.exp(arr1))\n",
        "\n",
        "# sine\n",
        "print(np.sin(arr1))\n",
        "\n",
        "#natural log\n",
        "print(np.log(arr1))"
      ],
      "metadata": {
        "colab": {
          "base_uri": "https://localhost:8080/"
        },
        "id": "8aHIieKPYUI5",
        "outputId": "562741dc-d622-4caf-d4ee-32d24aaf80cc"
      },
      "execution_count": null,
      "outputs": [
        {
          "output_type": "stream",
          "name": "stdout",
          "text": [
            "[3.16227766 4.47213595 5.47722558 6.32455532 7.07106781]\n",
            "[  2.71828183   7.3890561   20.08553692  54.59815003 148.4131591 ]\n",
            "[ 0.84147098  0.90929743  0.14112001 -0.7568025  -0.95892427]\n",
            "[0.         0.69314718 1.09861229 1.38629436 1.60943791]\n"
          ]
        }
      ]
    },
    {
      "cell_type": "code",
      "source": [
        "## Array slicing and Indexing\n",
        "arr=np.array([[1,2,3,4],[5,6,7,8],[9,10,11,12]])\n",
        "print(\"Array:\\n\", arr)\n"
      ],
      "metadata": {
        "colab": {
          "base_uri": "https://localhost:8080/"
        },
        "id": "nBoE27nBZNDH",
        "outputId": "2b8550e2-3ed1-4efc-cc1f-003de8cbc4d5"
      },
      "execution_count": null,
      "outputs": [
        {
          "output_type": "stream",
          "name": "stdout",
          "text": [
            "Array:\n",
            " [[ 1  2  3  4]\n",
            " [ 5  6  7  8]\n",
            " [ 9 10 11 12]]\n"
          ]
        }
      ]
    },
    {
      "cell_type": "code",
      "source": [
        "print(arr[1][0:])"
      ],
      "metadata": {
        "colab": {
          "base_uri": "https://localhost:8080/"
        },
        "id": "Ve-CMdoZaDAv",
        "outputId": "d6097ee5-1560-4132-b595-7eff124aa52a"
      },
      "execution_count": null,
      "outputs": [
        {
          "output_type": "stream",
          "name": "stdout",
          "text": [
            "[5 6 7 8]\n"
          ]
        }
      ]
    },
    {
      "cell_type": "code",
      "source": [
        "arr[1:]"
      ],
      "metadata": {
        "colab": {
          "base_uri": "https://localhost:8080/"
        },
        "id": "c67esURmaXBE",
        "outputId": "bd02c669-83d4-4ef4-831a-820c7583660b"
      },
      "execution_count": null,
      "outputs": [
        {
          "output_type": "execute_result",
          "data": {
            "text/plain": [
              "array([[ 5,  6,  7,  8],\n",
              "       [ 9, 10, 11, 12]])"
            ]
          },
          "metadata": {},
          "execution_count": 34
        }
      ]
    },
    {
      "cell_type": "code",
      "source": [
        "arr[1:,2:]"
      ],
      "metadata": {
        "colab": {
          "base_uri": "https://localhost:8080/"
        },
        "id": "jkgnDxfiatbL",
        "outputId": "7fed0f58-7736-45ae-c3aa-f9184a0bbd9e"
      },
      "execution_count": null,
      "outputs": [
        {
          "output_type": "execute_result",
          "data": {
            "text/plain": [
              "array([[ 7,  8],\n",
              "       [11, 12]])"
            ]
          },
          "metadata": {},
          "execution_count": 35
        }
      ]
    },
    {
      "cell_type": "code",
      "source": [
        "arr[0:2,1:]"
      ],
      "metadata": {
        "colab": {
          "base_uri": "https://localhost:8080/"
        },
        "id": "ky78oK7saybO",
        "outputId": "5d9e1bc2-46c2-49dc-86b8-e77607f111e8"
      },
      "execution_count": null,
      "outputs": [
        {
          "output_type": "execute_result",
          "data": {
            "text/plain": [
              "array([[2, 3, 4],\n",
              "       [6, 7, 8]])"
            ]
          },
          "metadata": {},
          "execution_count": 39
        }
      ]
    },
    {
      "cell_type": "code",
      "source": [
        "print(arr[1,1:3])\n",
        "print(arr[1:,1:3])"
      ],
      "metadata": {
        "colab": {
          "base_uri": "https://localhost:8080/"
        },
        "id": "-0QeVO2kcVdd",
        "outputId": "de8351de-e2eb-495d-f297-a259145b8936"
      },
      "execution_count": null,
      "outputs": [
        {
          "output_type": "stream",
          "name": "stdout",
          "text": [
            "[6 7]\n",
            "[[ 6  7]\n",
            " [10 11]]\n"
          ]
        }
      ]
    },
    {
      "cell_type": "code",
      "source": [
        "##modify array elements\n",
        "arr[0,0]=100\n",
        "arr"
      ],
      "metadata": {
        "colab": {
          "base_uri": "https://localhost:8080/"
        },
        "id": "-L9mrMvRc6e2",
        "outputId": "4b863f08-4ec1-4f70-fd57-bebbf14880eb"
      },
      "execution_count": null,
      "outputs": [
        {
          "output_type": "execute_result",
          "data": {
            "text/plain": [
              "array([[100,   2,   3,   4],\n",
              "       [  5,   6,   7,   8],\n",
              "       [  9,  10,  11,  12]])"
            ]
          },
          "metadata": {},
          "execution_count": 45
        }
      ]
    },
    {
      "cell_type": "code",
      "source": [
        "arr[1:]=100\n",
        "arr"
      ],
      "metadata": {
        "colab": {
          "base_uri": "https://localhost:8080/"
        },
        "id": "XAtDf_BHj1Kr",
        "outputId": "65685a45-ae21-441f-8798-a2e503e21708"
      },
      "execution_count": null,
      "outputs": [
        {
          "output_type": "execute_result",
          "data": {
            "text/plain": [
              "array([[100,   2,   3,   4],\n",
              "       [100, 100, 100, 100],\n",
              "       [100, 100, 100, 100]])"
            ]
          },
          "metadata": {},
          "execution_count": 47
        }
      ]
    },
    {
      "cell_type": "code",
      "source": [
        "arr[2:]=[100,200,300,400]\n",
        "arr"
      ],
      "metadata": {
        "colab": {
          "base_uri": "https://localhost:8080/"
        },
        "id": "Nv7Wq-frkCCi",
        "outputId": "3217f57b-e558-44d3-df5f-d972bd7d7e4a"
      },
      "execution_count": null,
      "outputs": [
        {
          "output_type": "execute_result",
          "data": {
            "text/plain": [
              "array([[100,   2,   3,   4],\n",
              "       [100, 100, 100, 100],\n",
              "       [100, 200, 300, 400]])"
            ]
          },
          "metadata": {},
          "execution_count": 49
        }
      ]
    },
    {
      "cell_type": "code",
      "source": [
        "## Statistical Concept -  Normalization\n",
        "#To have a mean of 0 and Standard Deviation of 1\n",
        "Data=np.array([10,20,30,40,50])\n",
        "\n",
        "#Calculating Mean and Standard deviation\\\n",
        "mean = np.mean(Data)\n",
        "print(\"Mean:\\n\",mean)\n",
        "\n",
        "median = np.median(Data)\n",
        "print(\"Median:\\n\", median)\n",
        "\n",
        "\n",
        "std_dev=np.std(Data)\n",
        "print(\"Standard Deviation:\\n\", std_dev)\n",
        "\n",
        "var = np.var(Data)\n",
        "print(\"Variance:\\n\", var)\n",
        "\n",
        "#Normalize the Data\n",
        "normalized_data = (Data-mean)/std_dev\n",
        "print(normalized_data)"
      ],
      "metadata": {
        "colab": {
          "base_uri": "https://localhost:8080/"
        },
        "id": "jFaW95AokICl",
        "outputId": "ef8833e8-3f63-4214-b5ca-d512bbc2932e"
      },
      "execution_count": null,
      "outputs": [
        {
          "output_type": "stream",
          "name": "stdout",
          "text": [
            "Mean:\n",
            " 30.0\n",
            "Median:\n",
            " 30.0\n",
            "Standard Deviation:\n",
            " 14.142135623730951\n",
            "Variance:\n",
            " 200.0\n",
            "[-1.41421356 -0.70710678  0.          0.70710678  1.41421356]\n"
          ]
        }
      ]
    },
    {
      "cell_type": "code",
      "source": [
        "#Logical Operations\n",
        "\n",
        "Data = np.array([1,2,3,4,5,6,7,8,9,10])\n",
        "print(Data>5)  # give True Flase Value\n",
        "print(Data[Data>5]) # with the help of indexing it gives array values directly"
      ],
      "metadata": {
        "colab": {
          "base_uri": "https://localhost:8080/"
        },
        "id": "JgNzEBCYlbt1",
        "outputId": "7e34c3fc-4eaa-4f7b-86c1-26cc0522d032"
      },
      "execution_count": null,
      "outputs": [
        {
          "output_type": "stream",
          "name": "stdout",
          "text": [
            "[False False False False False  True  True  True  True  True]\n",
            "[ 6  7  8  9 10]\n"
          ]
        }
      ]
    },
    {
      "cell_type": "code",
      "source": [
        "Data[(Data>5) & (Data<=8)]"
      ],
      "metadata": {
        "colab": {
          "base_uri": "https://localhost:8080/"
        },
        "id": "704XHJdBpkOR",
        "outputId": "5b0ae352-0566-46a8-e6bb-46d62ef5535e"
      },
      "execution_count": null,
      "outputs": [
        {
          "output_type": "execute_result",
          "data": {
            "text/plain": [
              "array([6, 7, 8])"
            ]
          },
          "metadata": {},
          "execution_count": 62
        }
      ]
    },
    {
      "cell_type": "code",
      "source": [],
      "metadata": {
        "id": "vYMYu2obqlvV"
      },
      "execution_count": null,
      "outputs": []
    }
  ]
}